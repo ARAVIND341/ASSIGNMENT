{
 "cells": [
  {
   "cell_type": "code",
   "execution_count": 1,
   "id": "d535529f-2925-4a5a-8959-930ce750f4c8",
   "metadata": {},
   "outputs": [],
   "source": [
    "import pandas as pd"
   ]
  },
  {
   "cell_type": "code",
   "execution_count": 2,
   "id": "ae1d37a7-5a83-4998-b1db-55fdc413f045",
   "metadata": {},
   "outputs": [],
   "source": [
    "df = pd.read_csv(\"C:/Users/aravi/Downloads/zomato_df_final_data.csv\")"
   ]
  },
  {
   "cell_type": "code",
   "execution_count": 3,
   "id": "8e1bd09c-6a6c-4e13-ac0d-cf43a161aab4",
   "metadata": {},
   "outputs": [
    {
     "name": "stdout",
     "output_type": "stream",
     "text": [
      "<class 'pandas.core.frame.DataFrame'>\n",
      "RangeIndex: 10500 entries, 0 to 10499\n",
      "Data columns (total 17 columns):\n",
      " #   Column         Non-Null Count  Dtype  \n",
      "---  ------         --------------  -----  \n",
      " 0   address        10500 non-null  object \n",
      " 1   cost           10154 non-null  float64\n",
      " 2   cuisine        10500 non-null  object \n",
      " 3   lat            10308 non-null  float64\n",
      " 4   link           10500 non-null  object \n",
      " 5   lng            10308 non-null  float64\n",
      " 6   phone          10500 non-null  object \n",
      " 7   rating_number  7184 non-null   float64\n",
      " 8   rating_text    7184 non-null   object \n",
      " 9   subzone        10500 non-null  object \n",
      " 10  title          10500 non-null  object \n",
      " 11  type           10452 non-null  object \n",
      " 12  votes          7184 non-null   float64\n",
      " 13  groupon        10500 non-null  bool   \n",
      " 14  color          10500 non-null  object \n",
      " 15  cost_2         10154 non-null  float64\n",
      " 16  cuisine_color  10500 non-null  object \n",
      "dtypes: bool(1), float64(6), object(10)\n",
      "memory usage: 1.3+ MB\n",
      "None\n"
     ]
    }
   ],
   "source": [
    "print(df.info())"
   ]
  },
  {
   "cell_type": "code",
   "execution_count": 4,
   "id": "d63be1cb-f847-4ea6-9bd4-ec7e3bfd5073",
   "metadata": {},
   "outputs": [
    {
     "name": "stdout",
     "output_type": "stream",
     "text": [
      "               cost           lat           lng  rating_number        votes  \\\n",
      "count  10154.000000  10308.000000  10308.000000    7184.000000  7184.000000   \n",
      "mean      51.153240    -32.921377    148.067359       3.283672    83.581013   \n",
      "std       27.799485      8.263449     26.695402       0.454580   175.117966   \n",
      "min        8.000000    -37.858473   -123.270371       1.800000     4.000000   \n",
      "25%       30.000000    -33.899094    151.061061       3.000000    12.000000   \n",
      "50%       45.000000    -33.872741    151.172468       3.300000    32.000000   \n",
      "75%       60.000000    -33.813451    151.208940       3.600000    87.000000   \n",
      "max      500.000000     51.500986    152.869052       4.900000  3236.000000   \n",
      "\n",
      "             cost_2  \n",
      "count  10154.000000  \n",
      "mean       5.332974  \n",
      "std        2.147115  \n",
      "min        2.000000  \n",
      "25%        3.699187  \n",
      "50%        4.857724  \n",
      "75%        6.016260  \n",
      "max       40.000000  \n"
     ]
    }
   ],
   "source": [
    "print(df.describe())"
   ]
  },
  {
   "cell_type": "code",
   "execution_count": 5,
   "id": "53ecf0f0-7982-4de8-a8d7-4894679cf563",
   "metadata": {},
   "outputs": [
    {
     "name": "stdout",
     "output_type": "stream",
     "text": [
      "<bound method DataFrame.sum of        address   cost  cuisine    lat   link    lng  phone  rating_number  \\\n",
      "0        False  False    False  False  False  False  False          False   \n",
      "1        False  False    False  False  False  False  False          False   \n",
      "2        False  False    False  False  False  False  False          False   \n",
      "3        False  False    False  False  False  False  False          False   \n",
      "4        False  False    False  False  False  False  False          False   \n",
      "...        ...    ...      ...    ...    ...    ...    ...            ...   \n",
      "10495    False  False    False  False  False  False  False           True   \n",
      "10496    False  False    False  False  False  False  False           True   \n",
      "10497    False  False    False  False  False  False  False           True   \n",
      "10498    False  False    False  False  False  False  False           True   \n",
      "10499    False  False    False   True  False   True  False           True   \n",
      "\n",
      "       rating_text  subzone  title   type  votes  groupon  color  cost_2  \\\n",
      "0            False    False  False  False  False    False  False   False   \n",
      "1            False    False  False  False  False    False  False   False   \n",
      "2            False    False  False  False  False    False  False   False   \n",
      "3            False    False  False  False  False    False  False   False   \n",
      "4            False    False  False  False  False    False  False   False   \n",
      "...            ...      ...    ...    ...    ...      ...    ...     ...   \n",
      "10495         True    False  False  False   True    False  False   False   \n",
      "10496         True    False  False  False   True    False  False   False   \n",
      "10497         True    False  False  False   True    False  False   False   \n",
      "10498         True    False  False  False   True    False  False   False   \n",
      "10499         True    False  False  False   True    False  False   False   \n",
      "\n",
      "       cuisine_color  \n",
      "0              False  \n",
      "1              False  \n",
      "2              False  \n",
      "3              False  \n",
      "4              False  \n",
      "...              ...  \n",
      "10495          False  \n",
      "10496          False  \n",
      "10497          False  \n",
      "10498          False  \n",
      "10499          False  \n",
      "\n",
      "[10500 rows x 17 columns]>\n"
     ]
    }
   ],
   "source": [
    "print(df.isnull().sum)"
   ]
  },
  {
   "cell_type": "code",
   "execution_count": 6,
   "id": "45f7a770-61e2-4c1f-b28c-970f9c3ab6dd",
   "metadata": {},
   "outputs": [
    {
     "data": {
      "text/plain": [
       "address           object\n",
       "cost             float64\n",
       "cuisine           object\n",
       "lat              float64\n",
       "link              object\n",
       "lng              float64\n",
       "phone             object\n",
       "rating_number    float64\n",
       "rating_text       object\n",
       "subzone           object\n",
       "title             object\n",
       "type              object\n",
       "votes            float64\n",
       "groupon             bool\n",
       "color             object\n",
       "cost_2           float64\n",
       "cuisine_color     object\n",
       "dtype: object"
      ]
     },
     "execution_count": 6,
     "metadata": {},
     "output_type": "execute_result"
    }
   ],
   "source": [
    "df.dtypes"
   ]
  },
  {
   "cell_type": "code",
   "execution_count": 7,
   "id": "98be18db-97d0-4d26-9021-8780fced0f5c",
   "metadata": {},
   "outputs": [
    {
     "data": {
      "text/plain": [
       "cost              51.153240\n",
       "lat              -32.921377\n",
       "lng              148.067359\n",
       "rating_number      3.283672\n",
       "votes             83.581013\n",
       "groupon            0.011619\n",
       "cost_2             5.332974\n",
       "dtype: float64"
      ]
     },
     "execution_count": 7,
     "metadata": {},
     "output_type": "execute_result"
    }
   ],
   "source": [
    "df.mean(numeric_only=True)"
   ]
  },
  {
   "cell_type": "code",
   "execution_count": 8,
   "id": "744ad67e-b9ae-4ecd-9bc4-0a3be46c528d",
   "metadata": {},
   "outputs": [
    {
     "data": {
      "text/plain": [
       "cost              45.000000\n",
       "lat              -33.872741\n",
       "lng              151.172468\n",
       "rating_number      3.300000\n",
       "votes             32.000000\n",
       "groupon            0.000000\n",
       "cost_2             4.857724\n",
       "dtype: float64"
      ]
     },
     "execution_count": 8,
     "metadata": {},
     "output_type": "execute_result"
    }
   ],
   "source": [
    "df.median(numeric_only=True)"
   ]
  },
  {
   "cell_type": "code",
   "execution_count": 10,
   "id": "253bf96e-6b8d-4010-ac26-63434573f79b",
   "metadata": {},
   "outputs": [
    {
     "ename": "ModuleNotFoundError",
     "evalue": "No module named 'seaborn'",
     "output_type": "error",
     "traceback": [
      "\u001b[31m---------------------------------------------------------------------------\u001b[39m",
      "\u001b[31mModuleNotFoundError\u001b[39m                       Traceback (most recent call last)",
      "\u001b[36mCell\u001b[39m\u001b[36m \u001b[39m\u001b[32mIn[10]\u001b[39m\u001b[32m, line 1\u001b[39m\n\u001b[32m----> \u001b[39m\u001b[32m1\u001b[39m \u001b[38;5;28;01mimport\u001b[39;00m\u001b[38;5;250m \u001b[39m\u001b[34;01mseaborn\u001b[39;00m\u001b[38;5;250m \u001b[39m\u001b[38;5;28;01mas\u001b[39;00m\u001b[38;5;250m \u001b[39m\u001b[34;01msns\u001b[39;00m\n",
      "\u001b[31mModuleNotFoundError\u001b[39m: No module named 'seaborn'"
     ]
    }
   ],
   "source": [
    "import seaborn as sns"
   ]
  },
  {
   "cell_type": "code",
   "execution_count": 11,
   "id": "fd24b969-d26c-44bb-90ce-112d0205bd81",
   "metadata": {},
   "outputs": [],
   "source": [
    "import matplotlib.pyplot as plt"
   ]
  },
  {
   "cell_type": "code",
   "execution_count": null,
   "id": "56c47205-ab50-477f-b424-2389e868f2a4",
   "metadata": {},
   "outputs": [],
   "source": []
  },
  {
   "cell_type": "code",
   "execution_count": 13,
   "id": "f99f8090-054c-4516-8e8a-f87bc6db38d3",
   "metadata": {},
   "outputs": [
    {
     "data": {
      "text/html": [
       "<div>\n",
       "<style scoped>\n",
       "    .dataframe tbody tr th:only-of-type {\n",
       "        vertical-align: middle;\n",
       "    }\n",
       "\n",
       "    .dataframe tbody tr th {\n",
       "        vertical-align: top;\n",
       "    }\n",
       "\n",
       "    .dataframe thead th {\n",
       "        text-align: right;\n",
       "    }\n",
       "</style>\n",
       "<table border=\"1\" class=\"dataframe\">\n",
       "  <thead>\n",
       "    <tr style=\"text-align: right;\">\n",
       "      <th></th>\n",
       "      <th>address</th>\n",
       "      <th>cost</th>\n",
       "      <th>cuisine</th>\n",
       "      <th>lat</th>\n",
       "      <th>link</th>\n",
       "      <th>lng</th>\n",
       "      <th>phone</th>\n",
       "      <th>rating_number</th>\n",
       "      <th>rating_text</th>\n",
       "      <th>subzone</th>\n",
       "      <th>title</th>\n",
       "      <th>type</th>\n",
       "      <th>votes</th>\n",
       "      <th>groupon</th>\n",
       "      <th>color</th>\n",
       "      <th>cost_2</th>\n",
       "      <th>cuisine_color</th>\n",
       "    </tr>\n",
       "  </thead>\n",
       "  <tbody>\n",
       "    <tr>\n",
       "      <th>0</th>\n",
       "      <td>371A Pitt Street, CBD, Sydney</td>\n",
       "      <td>50.0</td>\n",
       "      <td>['Hot Pot', 'Korean BBQ', 'BBQ', 'Korean']</td>\n",
       "      <td>-33.876059</td>\n",
       "      <td>https://www.zomato.com/sydney/sydney-madang-cbd</td>\n",
       "      <td>151.207605</td>\n",
       "      <td>02 8318 0406</td>\n",
       "      <td>4.0</td>\n",
       "      <td>Very Good</td>\n",
       "      <td>CBD</td>\n",
       "      <td>Sydney Madang</td>\n",
       "      <td>['Casual Dining']</td>\n",
       "      <td>1311.0</td>\n",
       "      <td>False</td>\n",
       "      <td>#e15307</td>\n",
       "      <td>5.243902</td>\n",
       "      <td>#6f706b</td>\n",
       "    </tr>\n",
       "    <tr>\n",
       "      <th>1</th>\n",
       "      <td>Shop 7A, 2 Huntley Street, Alexandria, Sydney</td>\n",
       "      <td>80.0</td>\n",
       "      <td>['Cafe', 'Coffee and Tea', 'Salad', 'Poké']</td>\n",
       "      <td>-33.910999</td>\n",
       "      <td>https://www.zomato.com/sydney/the-grounds-of-a...</td>\n",
       "      <td>151.193793</td>\n",
       "      <td>02 9699 2225</td>\n",
       "      <td>4.6</td>\n",
       "      <td>Excellent</td>\n",
       "      <td>The Grounds of Alexandria, Alexandria</td>\n",
       "      <td>The Grounds of Alexandria Cafe</td>\n",
       "      <td>['Café']</td>\n",
       "      <td>3236.0</td>\n",
       "      <td>False</td>\n",
       "      <td>#9c3203</td>\n",
       "      <td>7.560976</td>\n",
       "      <td>#6f706b</td>\n",
       "    </tr>\n",
       "    <tr>\n",
       "      <th>2</th>\n",
       "      <td>Level G, The Darling at the Star, 80 Pyrmont ...</td>\n",
       "      <td>120.0</td>\n",
       "      <td>['Japanese']</td>\n",
       "      <td>-33.867971</td>\n",
       "      <td>https://www.zomato.com/sydney/sokyo-pyrmont</td>\n",
       "      <td>151.195210</td>\n",
       "      <td>1800 700 700</td>\n",
       "      <td>4.9</td>\n",
       "      <td>Excellent</td>\n",
       "      <td>The Star, Pyrmont</td>\n",
       "      <td>Sokyo</td>\n",
       "      <td>['Fine Dining']</td>\n",
       "      <td>1227.0</td>\n",
       "      <td>False</td>\n",
       "      <td>#7f2704</td>\n",
       "      <td>10.650407</td>\n",
       "      <td>#6f706b</td>\n",
       "    </tr>\n",
       "    <tr>\n",
       "      <th>3</th>\n",
       "      <td>Sydney Opera House, Bennelong Point, Circular...</td>\n",
       "      <td>270.0</td>\n",
       "      <td>['Modern Australian']</td>\n",
       "      <td>-33.856784</td>\n",
       "      <td>https://www.zomato.com/sydney/bennelong-restau...</td>\n",
       "      <td>151.215297</td>\n",
       "      <td>02 9240 8000</td>\n",
       "      <td>4.9</td>\n",
       "      <td>Excellent</td>\n",
       "      <td>Circular Quay</td>\n",
       "      <td>Bennelong Restaurant</td>\n",
       "      <td>['Fine Dining', 'Bar']</td>\n",
       "      <td>278.0</td>\n",
       "      <td>False</td>\n",
       "      <td>#7f2704</td>\n",
       "      <td>22.235772</td>\n",
       "      <td>#4186f4</td>\n",
       "    </tr>\n",
       "    <tr>\n",
       "      <th>4</th>\n",
       "      <td>20 Campbell Street, Chinatown, Sydney</td>\n",
       "      <td>55.0</td>\n",
       "      <td>['Thai', 'Salad']</td>\n",
       "      <td>-33.879035</td>\n",
       "      <td>https://www.zomato.com/sydney/chat-thai-chinatown</td>\n",
       "      <td>151.206409</td>\n",
       "      <td>02 8317 4811</td>\n",
       "      <td>4.5</td>\n",
       "      <td>Excellent</td>\n",
       "      <td>Chinatown</td>\n",
       "      <td>Chat Thai</td>\n",
       "      <td>['Casual Dining']</td>\n",
       "      <td>2150.0</td>\n",
       "      <td>False</td>\n",
       "      <td>#a83703</td>\n",
       "      <td>5.630081</td>\n",
       "      <td>#6f706b</td>\n",
       "    </tr>\n",
       "  </tbody>\n",
       "</table>\n",
       "</div>"
      ],
      "text/plain": [
       "                                             address   cost  \\\n",
       "0                      371A Pitt Street, CBD, Sydney   50.0   \n",
       "1      Shop 7A, 2 Huntley Street, Alexandria, Sydney   80.0   \n",
       "2   Level G, The Darling at the Star, 80 Pyrmont ...  120.0   \n",
       "3   Sydney Opera House, Bennelong Point, Circular...  270.0   \n",
       "4              20 Campbell Street, Chinatown, Sydney   55.0   \n",
       "\n",
       "                                       cuisine        lat  \\\n",
       "0   ['Hot Pot', 'Korean BBQ', 'BBQ', 'Korean'] -33.876059   \n",
       "1  ['Cafe', 'Coffee and Tea', 'Salad', 'Poké'] -33.910999   \n",
       "2                                 ['Japanese'] -33.867971   \n",
       "3                        ['Modern Australian'] -33.856784   \n",
       "4                            ['Thai', 'Salad'] -33.879035   \n",
       "\n",
       "                                                link         lng  \\\n",
       "0    https://www.zomato.com/sydney/sydney-madang-cbd  151.207605   \n",
       "1  https://www.zomato.com/sydney/the-grounds-of-a...  151.193793   \n",
       "2        https://www.zomato.com/sydney/sokyo-pyrmont  151.195210   \n",
       "3  https://www.zomato.com/sydney/bennelong-restau...  151.215297   \n",
       "4  https://www.zomato.com/sydney/chat-thai-chinatown  151.206409   \n",
       "\n",
       "          phone  rating_number rating_text  \\\n",
       "0  02 8318 0406            4.0   Very Good   \n",
       "1  02 9699 2225            4.6   Excellent   \n",
       "2  1800 700 700            4.9   Excellent   \n",
       "3  02 9240 8000            4.9   Excellent   \n",
       "4  02 8317 4811            4.5   Excellent   \n",
       "\n",
       "                                 subzone                           title  \\\n",
       "0                                    CBD                   Sydney Madang   \n",
       "1  The Grounds of Alexandria, Alexandria  The Grounds of Alexandria Cafe   \n",
       "2                      The Star, Pyrmont                           Sokyo   \n",
       "3                          Circular Quay            Bennelong Restaurant   \n",
       "4                              Chinatown                       Chat Thai   \n",
       "\n",
       "                     type   votes  groupon    color     cost_2 cuisine_color  \n",
       "0       ['Casual Dining']  1311.0    False  #e15307   5.243902       #6f706b  \n",
       "1                ['Café']  3236.0    False  #9c3203   7.560976       #6f706b  \n",
       "2         ['Fine Dining']  1227.0    False  #7f2704  10.650407       #6f706b  \n",
       "3  ['Fine Dining', 'Bar']   278.0    False  #7f2704  22.235772       #4186f4  \n",
       "4       ['Casual Dining']  2150.0    False  #a83703   5.630081       #6f706b  "
      ]
     },
     "metadata": {},
     "output_type": "display_data"
    }
   ],
   "source": [
    "display(df.head())"
   ]
  },
  {
   "cell_type": "code",
   "execution_count": 14,
   "id": "71fdc09a-8754-480b-9ca0-7267923b3be6",
   "metadata": {},
   "outputs": [],
   "source": [
    "unique_cuisines = df['cuisine'].nunique()"
   ]
  },
  {
   "cell_type": "code",
   "execution_count": 15,
   "id": "cea5dd08-f706-4510-82af-82266825e69f",
   "metadata": {},
   "outputs": [
    {
     "name": "stdout",
     "output_type": "stream",
     "text": [
      "Number of unique cuisines: 1759\n"
     ]
    }
   ],
   "source": [
    "print(\"Number of unique cuisines:\", unique_cuisines)"
   ]
  },
  {
   "cell_type": "code",
   "execution_count": 16,
   "id": "c9d9798b-69c4-495f-a718-401e533641b5",
   "metadata": {},
   "outputs": [
    {
     "name": "stdout",
     "output_type": "stream",
     "text": [
      "[\"['Hot Pot', 'Korean BBQ', 'BBQ', 'Korean']\"\n",
      " \"['Cafe', 'Coffee and Tea', 'Salad', 'Poké']\" \"['Japanese']\" ...\n",
      " \"['Bakery', 'Pizza', 'Kebab']\" \"['Cafe', 'Coffee and Tea', 'Chinese']\"\n",
      " \"['Kebab', 'Burger', 'Fish and Chips']\"]\n"
     ]
    }
   ],
   "source": [
    "print(df['cuisine'].unique())"
   ]
  },
  {
   "cell_type": "code",
   "execution_count": 17,
   "id": "b3c41382-13be-4342-98e4-71239e1b220a",
   "metadata": {},
   "outputs": [],
   "source": [
    "## Finding 3 suburbs having the most restaurants"
   ]
  },
  {
   "cell_type": "code",
   "execution_count": 18,
   "id": "41923d90-5814-41b0-bd2b-4f289c1bec05",
   "metadata": {},
   "outputs": [],
   "source": [
    "# First counting  the number of restaurants in each suburb\n",
    "top3_suburbs = df['subzone'].value_counts().head(3)"
   ]
  },
  {
   "cell_type": "code",
   "execution_count": 19,
   "id": "744c6630-eb84-461f-93d9-e7a98debd7e9",
   "metadata": {},
   "outputs": [
    {
     "name": "stdout",
     "output_type": "stream",
     "text": [
      "subzone\n",
      "CBD            476\n",
      "Surry Hills    260\n",
      "Parramatta     225\n",
      "Name: count, dtype: int64\n"
     ]
    }
   ],
   "source": [
    "print(top3_suburbs)"
   ]
  },
  {
   "cell_type": "code",
   "execution_count": 20,
   "id": "2c2b34d3-4626-4aad-afb6-44a875960f29",
   "metadata": {},
   "outputs": [],
   "source": [
    "##plotting the graph for the same"
   ]
  },
  {
   "cell_type": "code",
   "execution_count": 21,
   "id": "cb759742-f097-4db2-b27f-c1b1dd7e2225",
   "metadata": {},
   "outputs": [],
   "source": [
    "import matplotlib.pyplot as plt"
   ]
  },
  {
   "cell_type": "code",
   "execution_count": 22,
   "id": "1a841dd6-60fe-467f-bcb9-d5495f811365",
   "metadata": {},
   "outputs": [
    {
     "data": {
      "image/png": "[encoded data removed]",
      "text/plain": [
       "<Figure size 600x400 with 1 Axes>"
      ]
     },
     "metadata": {},
     "output_type": "display_data"
    }
   ],
   "source": [
    "\n",
    "plt.figure(figsize=(6,4))\n",
    "plt.bar(top3_suburbs.index, top3_suburbs.values, color=['#FF7F50', '#6A5ACD', '#3CB371'])\n",
    "plt.title(\"Top 3 Suburbs with Most Restaurants\")\n",
    "plt.xlabel(\"Suburb\")\n",
    "plt.ylabel(\"Number of Restaurants\")\n",
    "plt.tight_layout()\n",
    "plt.show()"
   ]
  },
  {
   "cell_type": "code",
   "execution_count": 23,
   "id": "38ca183a-2939-4a02-b866-50f7ce2d7279",
   "metadata": {},
   "outputs": [],
   "source": [
    "#the above figure represents the suburbs having the most number of restaurants. Here we can see the suburb CBD is having the higher number followed by Surry hills and then Parramatta"
   ]
  },
  {
   "cell_type": "code",
   "execution_count": 24,
   "id": "c777da1b-39b0-4169-bd3f-9c3e83209f35",
   "metadata": {},
   "outputs": [],
   "source": [
    "#Are restaurants with“Excellent”ratings more expensive than those with“Poor”ratings? Support with visuals (histograms or stacked bars)."
   ]
  },
  {
   "cell_type": "code",
   "execution_count": 25,
   "id": "3304bdaa-4eb1-4961-aed1-7ae0fd336158",
   "metadata": {},
   "outputs": [],
   "source": [
    "#Here we are using histogram for the same"
   ]
  },
  {
   "cell_type": "code",
   "execution_count": 26,
   "id": "3e741019-dbfb-44c6-b689-7021eb3f08b2",
   "metadata": {},
   "outputs": [],
   "source": [
    "rating_filtered = df[df['rating_text'].isin(['Excellent', 'Poor'])].copy() #filtering restaurants rated excellent and poor"
   ]
  },
  {
   "cell_type": "code",
   "execution_count": 27,
   "id": "f39d1bd7-03ce-4b9c-a895-757cadadfbbe",
   "metadata": {},
   "outputs": [
    {
     "name": "stdout",
     "output_type": "stream",
     "text": [
      "                                                address   cost  \\\n",
      "1         Shop 7A, 2 Huntley Street, Alexandria, Sydney   80.0   \n",
      "2      Level G, The Darling at the Star, 80 Pyrmont ...  120.0   \n",
      "3      Sydney Opera House, Bennelong Point, Circular...  270.0   \n",
      "4                 20 Campbell Street, Chinatown, Sydney   55.0   \n",
      "5             46 Kensington Street, Chippendale, Sydney  150.0   \n",
      "...                                                 ...    ...   \n",
      "6791   2 City View Road (Corner of Pennant Hills And...   60.0   \n",
      "7040   Food Court, Ground Floor, Neeta City Shopping...   40.0   \n",
      "7340             179 Russell Avenue, Sans Souci, Sydney   55.0   \n",
      "7626   41-47 Shepherds Drive, Cherrybrook Village Sh...   55.0   \n",
      "9004                801 King Georges Road, \\tHurstville   70.0   \n",
      "\n",
      "                                          cuisine        lat  \\\n",
      "1     ['Cafe', 'Coffee and Tea', 'Salad', 'Poké'] -33.910999   \n",
      "2                                    ['Japanese'] -33.867971   \n",
      "3                           ['Modern Australian'] -33.856784   \n",
      "4                               ['Thai', 'Salad'] -33.879035   \n",
      "5               ['Desserts', 'Modern Australian'] -33.885475   \n",
      "...                                           ...        ...   \n",
      "6791                               ['Sri Lankan'] -33.739858   \n",
      "7040                        ['Seafood', 'Burger'] -33.868174   \n",
      "7340                        ['Indian', 'Seafood'] -33.995018   \n",
      "7626                                    ['Asian'] -33.721081   \n",
      "9004                                 ['Bar Food'] -33.977620   \n",
      "\n",
      "                                                   link         lng  \\\n",
      "1     https://www.zomato.com/sydney/the-grounds-of-a...  151.193793   \n",
      "2           https://www.zomato.com/sydney/sokyo-pyrmont  151.195210   \n",
      "3     https://www.zomato.com/sydney/bennelong-restau...  151.215297   \n",
      "4     https://www.zomato.com/sydney/chat-thai-chinatown  151.206409   \n",
      "5     https://www.zomato.com/sydney/koi-dessert-bar-...  151.201953   \n",
      "...                                                 ...         ...   \n",
      "6791  https://www.zomato.com/sydney/blue-elephant-pe...  151.068060   \n",
      "7040  https://www.zomato.com/sydney/the-fishing-choo...  150.955513   \n",
      "7340  https://www.zomato.com/sydney/le-beach-hut-san...  151.145757   \n",
      "7626  https://www.zomato.com/sydney/la-cherrie-penna...  151.043939   \n",
      "9004  https://www.zomato.com/sydney/kings-head-taver...  151.104471   \n",
      "\n",
      "               phone  rating_number rating_text  \\\n",
      "1       02 9699 2225            4.6   Excellent   \n",
      "2       1800 700 700            4.9   Excellent   \n",
      "3       02 9240 8000            4.9   Excellent   \n",
      "4       02 8317 4811            4.5   Excellent   \n",
      "5       02 9212 1230            4.8   Excellent   \n",
      "...              ...            ...         ...   \n",
      "6791  (02) 8401 1508            2.3        Poor   \n",
      "7040    02 9728 1015            2.4        Poor   \n",
      "7340    02 9529 8420            2.4        Poor   \n",
      "7626  (02) 9980 9400            2.4        Poor   \n",
      "9004    02 9547 0000            2.4        Poor   \n",
      "\n",
      "                                               subzone  \\\n",
      "1                The Grounds of Alexandria, Alexandria   \n",
      "2                                    The Star, Pyrmont   \n",
      "3                                        Circular Quay   \n",
      "4                                            Chinatown   \n",
      "5                       Kensington Street, Chippendale   \n",
      "...                                                ...   \n",
      "6791                                     Pennant Hills   \n",
      "7040             Neeta City Shopping Centre, Fairfield   \n",
      "7340                                        Sans Souci   \n",
      "7626  Cherrybrook Village Shopping Centre, Cherrybrook   \n",
      "9004                                        Hurstville   \n",
      "\n",
      "                               title                                  type  \\\n",
      "1     The Grounds of Alexandria Cafe                              ['Café']   \n",
      "2                              Sokyo                       ['Fine Dining']   \n",
      "3               Bennelong Restaurant                ['Fine Dining', 'Bar']   \n",
      "4                          Chat Thai                     ['Casual Dining']   \n",
      "5                    KOI Dessert Bar  ['Casual Dining', 'Dessert Parlour']   \n",
      "...                              ...                                   ...   \n",
      "6791                   Blue Elephant                     ['Casual Dining']   \n",
      "7040               The Fishing Chook                        ['Food Court']   \n",
      "7340                    Le Beach Hut                     ['Casual Dining']   \n",
      "7626                      La Cherrie                     ['Casual Dining']   \n",
      "9004              King's Head Tavern                               ['Bar']   \n",
      "\n",
      "       votes  groupon    color     cost_2 cuisine_color  \n",
      "1     3236.0    False  #9c3203   7.560976       #6f706b  \n",
      "2     1227.0    False  #7f2704  10.650407       #6f706b  \n",
      "3      278.0    False  #7f2704  22.235772       #4186f4  \n",
      "4     2150.0    False  #a83703   5.630081       #6f706b  \n",
      "5      575.0    False  #892b04  12.967480       #4186f4  \n",
      "...      ...      ...      ...        ...           ...  \n",
      "6791    23.0    False  #fee0c1   6.016260       #6f706b  \n",
      "7040    16.0    False  #fddab6   4.471545       #6f706b  \n",
      "7340    16.0    False  #fddab6   5.630081       #6f706b  \n",
      "7626    20.0    False  #fddab6   5.630081       #6f706b  \n",
      "9004    17.0    False  #fddab6   6.788618       #6f706b  \n",
      "\n",
      "[260 rows x 17 columns]\n"
     ]
    }
   ],
   "source": [
    "print(rating_filtered)"
   ]
  },
  {
   "cell_type": "code",
   "execution_count": 28,
   "id": "7d4fc63c-9743-4636-a950-cb035af474c3",
   "metadata": {},
   "outputs": [],
   "source": [
    "rating_filtered = rating_filtered.dropna(subset=['cost']) #removing rows with missing values"
   ]
  },
  {
   "cell_type": "code",
   "execution_count": 29,
   "id": "27140929-78cb-43d8-a8ae-c29599266d91",
   "metadata": {},
   "outputs": [
    {
     "name": "stdout",
     "output_type": "stream",
     "text": [
      "                                                address   cost  \\\n",
      "1         Shop 7A, 2 Huntley Street, Alexandria, Sydney   80.0   \n",
      "2      Level G, The Darling at the Star, 80 Pyrmont ...  120.0   \n",
      "3      Sydney Opera House, Bennelong Point, Circular...  270.0   \n",
      "4                 20 Campbell Street, Chinatown, Sydney   55.0   \n",
      "5             46 Kensington Street, Chippendale, Sydney  150.0   \n",
      "...                                                 ...    ...   \n",
      "6791   2 City View Road (Corner of Pennant Hills And...   60.0   \n",
      "7040   Food Court, Ground Floor, Neeta City Shopping...   40.0   \n",
      "7340             179 Russell Avenue, Sans Souci, Sydney   55.0   \n",
      "7626   41-47 Shepherds Drive, Cherrybrook Village Sh...   55.0   \n",
      "9004                801 King Georges Road, \\tHurstville   70.0   \n",
      "\n",
      "                                          cuisine        lat  \\\n",
      "1     ['Cafe', 'Coffee and Tea', 'Salad', 'Poké'] -33.910999   \n",
      "2                                    ['Japanese'] -33.867971   \n",
      "3                           ['Modern Australian'] -33.856784   \n",
      "4                               ['Thai', 'Salad'] -33.879035   \n",
      "5               ['Desserts', 'Modern Australian'] -33.885475   \n",
      "...                                           ...        ...   \n",
      "6791                               ['Sri Lankan'] -33.739858   \n",
      "7040                        ['Seafood', 'Burger'] -33.868174   \n",
      "7340                        ['Indian', 'Seafood'] -33.995018   \n",
      "7626                                    ['Asian'] -33.721081   \n",
      "9004                                 ['Bar Food'] -33.977620   \n",
      "\n",
      "                                                   link         lng  \\\n",
      "1     https://www.zomato.com/sydney/the-grounds-of-a...  151.193793   \n",
      "2           https://www.zomato.com/sydney/sokyo-pyrmont  151.195210   \n",
      "3     https://www.zomato.com/sydney/bennelong-restau...  151.215297   \n",
      "4     https://www.zomato.com/sydney/chat-thai-chinatown  151.206409   \n",
      "5     https://www.zomato.com/sydney/koi-dessert-bar-...  151.201953   \n",
      "...                                                 ...         ...   \n",
      "6791  https://www.zomato.com/sydney/blue-elephant-pe...  151.068060   \n",
      "7040  https://www.zomato.com/sydney/the-fishing-choo...  150.955513   \n",
      "7340  https://www.zomato.com/sydney/le-beach-hut-san...  151.145757   \n",
      "7626  https://www.zomato.com/sydney/la-cherrie-penna...  151.043939   \n",
      "9004  https://www.zomato.com/sydney/kings-head-taver...  151.104471   \n",
      "\n",
      "               phone  rating_number rating_text  \\\n",
      "1       02 9699 2225            4.6   Excellent   \n",
      "2       1800 700 700            4.9   Excellent   \n",
      "3       02 9240 8000            4.9   Excellent   \n",
      "4       02 8317 4811            4.5   Excellent   \n",
      "5       02 9212 1230            4.8   Excellent   \n",
      "...              ...            ...         ...   \n",
      "6791  (02) 8401 1508            2.3        Poor   \n",
      "7040    02 9728 1015            2.4        Poor   \n",
      "7340    02 9529 8420            2.4        Poor   \n",
      "7626  (02) 9980 9400            2.4        Poor   \n",
      "9004    02 9547 0000            2.4        Poor   \n",
      "\n",
      "                                               subzone  \\\n",
      "1                The Grounds of Alexandria, Alexandria   \n",
      "2                                    The Star, Pyrmont   \n",
      "3                                        Circular Quay   \n",
      "4                                            Chinatown   \n",
      "5                       Kensington Street, Chippendale   \n",
      "...                                                ...   \n",
      "6791                                     Pennant Hills   \n",
      "7040             Neeta City Shopping Centre, Fairfield   \n",
      "7340                                        Sans Souci   \n",
      "7626  Cherrybrook Village Shopping Centre, Cherrybrook   \n",
      "9004                                        Hurstville   \n",
      "\n",
      "                               title                                  type  \\\n",
      "1     The Grounds of Alexandria Cafe                              ['Café']   \n",
      "2                              Sokyo                       ['Fine Dining']   \n",
      "3               Bennelong Restaurant                ['Fine Dining', 'Bar']   \n",
      "4                          Chat Thai                     ['Casual Dining']   \n",
      "5                    KOI Dessert Bar  ['Casual Dining', 'Dessert Parlour']   \n",
      "...                              ...                                   ...   \n",
      "6791                   Blue Elephant                     ['Casual Dining']   \n",
      "7040               The Fishing Chook                        ['Food Court']   \n",
      "7340                    Le Beach Hut                     ['Casual Dining']   \n",
      "7626                      La Cherrie                     ['Casual Dining']   \n",
      "9004              King's Head Tavern                               ['Bar']   \n",
      "\n",
      "       votes  groupon    color     cost_2 cuisine_color  \n",
      "1     3236.0    False  #9c3203   7.560976       #6f706b  \n",
      "2     1227.0    False  #7f2704  10.650407       #6f706b  \n",
      "3      278.0    False  #7f2704  22.235772       #4186f4  \n",
      "4     2150.0    False  #a83703   5.630081       #6f706b  \n",
      "5      575.0    False  #892b04  12.967480       #4186f4  \n",
      "...      ...      ...      ...        ...           ...  \n",
      "6791    23.0    False  #fee0c1   6.016260       #6f706b  \n",
      "7040    16.0    False  #fddab6   4.471545       #6f706b  \n",
      "7340    16.0    False  #fddab6   5.630081       #6f706b  \n",
      "7626    20.0    False  #fddab6   5.630081       #6f706b  \n",
      "9004    17.0    False  #fddab6   6.788618       #6f706b  \n",
      "\n",
      "[252 rows x 17 columns]\n"
     ]
    }
   ],
   "source": [
    "print(rating_filtered)"
   ]
  },
  {
   "cell_type": "code",
   "execution_count": 30,
   "id": "f3d3805f-0c5b-49b0-a2ba-d9ef88ce4069",
   "metadata": {},
   "outputs": [
    {
     "data": {
      "image/png": "[encoded data removed]",
      "text/plain": [
       "<Figure size 900x500 with 1 Axes>"
      ]
     },
     "metadata": {},
     "output_type": "display_data"
    }
   ],
   "source": [
    "plt.figure(figsize=(9,5))\n",
    "bins = 30  # number of bins\n",
    "for rating in ['Excellent', 'Poor']:\n",
    "    sub = rating_filtered[rating_filtered['rating_text'] == rating]['cost']\n",
    "    plt.hist(sub, bins=bins, alpha=0.6, label=rating)\n",
    "\n",
    "plt.title(\"Excellent cost vs Poor cost\")\n",
    "plt.xlabel(\"Cost\")\n",
    "plt.ylabel(\"No: of Restaurants\")\n",
    "plt.legend()\n",
    "plt.tight_layout()\n",
    "plt.show()"
   ]
  },
  {
   "cell_type": "code",
   "execution_count": 31,
   "id": "8db8f2cd-979f-459f-bbda-542510cdf4e6",
   "metadata": {},
   "outputs": [],
   "source": [
    "#Here in the above figure,we can see that, the orange bars which shows poor rated restaurants, are being concentrated in low costs ranging from 10 to 200. We can easily analyse from the figure that, restaurants having excellent ratings are having higher prices."
   ]
  },
  {
   "cell_type": "code",
   "execution_count": 32,
   "id": "dd2333ab-7c66-4a30-baf6-385901098ffc",
   "metadata": {},
   "outputs": [],
   "source": [
    "#Question 3#"
   ]
  },
  {
   "cell_type": "code",
   "execution_count": 33,
   "id": "f6d5dd52-9bca-498c-b73a-bc3c7f7b3b3b",
   "metadata": {},
   "outputs": [],
   "source": [
    "#Distribution of cost"
   ]
  },
  {
   "cell_type": "code",
   "execution_count": 34,
   "id": "d2e289f4-1730-4355-9186-3f915448af47",
   "metadata": {},
   "outputs": [
    {
     "data": {
      "image/png": "[encoded data removed]",
      "text/plain": [
       "<Figure size 800x400 with 1 Axes>"
      ]
     },
     "metadata": {},
     "output_type": "display_data"
    }
   ],
   "source": [
    "plt.figure(figsize=(8,4))\n",
    "plt.hist(df['cost'].dropna(), bins=30, color='skyblue', edgecolor='black')\n",
    "plt.title('Distribution of Restaurant Cost')\n",
    "plt.xlabel('Cost')\n",
    "plt.ylabel('Number of Restaurants')\n",
    "plt.tight_layout()\n",
    "plt.show()"
   ]
  },
  {
   "cell_type": "code",
   "execution_count": 35,
   "id": "2ccf0a08-3dc9-4324-b48d-0753f3fda5c2",
   "metadata": {},
   "outputs": [],
   "source": [
    "#In this distribution, it is evident that the most of the restaurants are having restaurant cost ranging from 10 to 250. The number of restaurants having high cost is comparatively very less."
   ]
  },
  {
   "cell_type": "code",
   "execution_count": 36,
   "id": "9a52ff5e-f280-4c10-9bea-c79c347ae529",
   "metadata": {},
   "outputs": [],
   "source": [
    "#Distribution of ratings#"
   ]
  },
  {
   "cell_type": "code",
   "execution_count": 37,
   "id": "76b4d92d-964a-4fd2-b67c-707e0ee37454",
   "metadata": {},
   "outputs": [
    {
     "data": {
      "image/png": "[encoded data removed]",
      "text/plain": [
       "<Figure size 800x400 with 1 Axes>"
      ]
     },
     "metadata": {},
     "output_type": "display_data"
    }
   ],
   "source": [
    "plt.figure(figsize=(8,4))\n",
    "plt.hist(df['rating_number'].dropna(), bins=20, color='orange', edgecolor='black')\n",
    "plt.title('Distribution of Rating Numbers')\n",
    "plt.xlabel('Rating')\n",
    "plt.ylabel('Number of Restaurants')\n",
    "plt.tight_layout()\n",
    "plt.show()"
   ]
  },
  {
   "cell_type": "code",
   "execution_count": 38,
   "id": "60ac99a8-f23c-4ec8-9e5a-029e956bdd3e",
   "metadata": {},
   "outputs": [],
   "source": [
    "#Distribution of restaurant types#"
   ]
  },
  {
   "cell_type": "code",
   "execution_count": 39,
   "id": "1be337a7-92d9-4d40-97d5-4f4aeca5a467",
   "metadata": {},
   "outputs": [
    {
     "data": {
      "image/png": "[encoded data removed]",
      "text/plain": [
       "<Figure size 1000x500 with 1 Axes>"
      ]
     },
     "metadata": {},
     "output_type": "display_data"
    }
   ],
   "source": [
    "plt.figure(figsize=(10,5))\n",
    "df['type'].value_counts().head(10).plot(kind='bar', color='green', edgecolor='black')\n",
    "plt.title('Top 10 Restaurant Types')\n",
    "plt.xlabel('Restaurant Type')\n",
    "plt.ylabel('Number of Restaurants')\n",
    "plt.tight_layout()\n",
    "plt.show()"
   ]
  },
  {
   "cell_type": "code",
   "execution_count": 40,
   "id": "97fa9032-187b-4ee7-8b0d-47524ae3a56a",
   "metadata": {},
   "outputs": [
    {
     "data": {
      "image/png": "[encoded data removed]",
      "text/plain": [
       "<Figure size 800x500 with 1 Axes>"
      ]
     },
     "metadata": {},
     "output_type": "display_data"
    },
    {
     "name": "stdout",
     "output_type": "stream",
     "text": [
      "Correlation between cost and votes: 0.2702155525827853\n"
     ]
    }
   ],
   "source": [
    "# Scatter plot to see relationship between cost and votes\n",
    "plt.figure(figsize=(8,5))\n",
    "plt.scatter(df['cost'], df['votes'], alpha=0.5, color='purple')\n",
    "plt.title('Cost vs Votes')\n",
    "plt.xlabel('Cost')\n",
    "plt.ylabel('Votes')\n",
    "plt.tight_layout()\n",
    "plt.show()\n",
    "\n",
    "# Calculate correlation value\n",
    "correlation = df[['cost','votes']].corr().iloc[0,1]\n",
    "print(\"Correlation between cost and votes:\", correlation)"
   ]
  },
  {
   "cell_type": "code",
   "execution_count": 41,
   "id": "330b46cd-b46f-41c1-a1a3-bcb6149194b0",
   "metadata": {},
   "outputs": [],
   "source": [
    "#Question 4 - Geospatial analysis"
   ]
  },
  {
   "cell_type": "code",
   "execution_count": null,
   "id": "dda39d69-7202-4058-a8c5-0d15fa54626a",
   "metadata": {},
   "outputs": [
    {
     "ename": "ModuleNotFoundError",
     "evalue": "No module named 'geopandas'",
     "output_type": "error",
     "traceback": [
      "\u001b[31m---------------------------------------------------------------------------\u001b[39m",
      "\u001b[31mModuleNotFoundError\u001b[39m                       Traceback (most recent call last)",
      "\u001b[36mCell\u001b[39m\u001b[36m \u001b[39m\u001b[32mIn[42]\u001b[39m\u001b[32m, line 1\u001b[39m\n\u001b[32m----> \u001b[39m\u001b[32m1\u001b[39m \u001b[38;5;28;01mimport\u001b[39;00m\u001b[38;5;250m \u001b[39m\u001b[34;01mgeopandas\u001b[39;00m\u001b[38;5;250m \u001b[39m\u001b[38;5;28;01mas\u001b[39;00m\u001b[38;5;250m \u001b[39m\u001b[34;01mgpd\u001b[39;00m\n",
      "\u001b[31mModuleNotFoundError\u001b[39m: No module named 'geopandas'"
     ]
    }
   ],
   "source": [
    "import geopandas as gpd"
   ]
  },
  {
   "cell_type": "code",
   "execution_count": 46,
   "id": "c95f4f18-91ed-49ff-ab64-846d8ba22f24",
   "metadata": {},
   "outputs": [
    {
     "name": "stdout",
     "output_type": "stream",
     "text": [
      "Requirement already satisfied: geopandas in c:\\users\\aravi\\anaconda3\\lib\\site-packages (1.1.1)\n",
      "Requirement already satisfied: shapely in c:\\users\\aravi\\anaconda3\\lib\\site-packages (2.1.1)\n",
      "Requirement already satisfied: pyproj in c:\\users\\aravi\\anaconda3\\lib\\site-packages (3.7.2)\n",
      "Requirement already satisfied: fiona in c:\\users\\aravi\\anaconda3\\lib\\site-packages (1.10.1)\n",
      "Requirement already satisfied: numpy>=1.24 in c:\\users\\aravi\\appdata\\roaming\\python\\python313\\site-packages (from geopandas) (2.3.3)\n",
      "Requirement already satisfied: pyogrio>=0.7.2 in c:\\users\\aravi\\anaconda3\\lib\\site-packages (from geopandas) (0.11.1)\n",
      "Requirement already satisfied: packaging in c:\\users\\aravi\\appdata\\roaming\\python\\python313\\site-packages (from geopandas) (25.0)\n",
      "Requirement already satisfied: pandas>=2.0.0 in c:\\users\\aravi\\appdata\\roaming\\python\\python313\\site-packages (from geopandas) (2.3.2)\n",
      "Requirement already satisfied: certifi in c:\\users\\aravi\\anaconda3\\lib\\site-packages (from pyproj) (2025.7.14)\n",
      "Requirement already satisfied: attrs>=19.2.0 in c:\\users\\aravi\\anaconda3\\lib\\site-packages (from fiona) (24.3.0)\n",
      "Requirement already satisfied: click~=8.0 in c:\\users\\aravi\\anaconda3\\lib\\site-packages (from fiona) (8.1.8)\n",
      "Requirement already satisfied: click-plugins>=1.0 in c:\\users\\aravi\\anaconda3\\lib\\site-packages (from fiona) (1.1.1.2)\n",
      "Requirement already satisfied: cligj>=0.5 in c:\\users\\aravi\\anaconda3\\lib\\site-packages (from fiona) (0.7.2)\n",
      "Requirement already satisfied: colorama in c:\\users\\aravi\\anaconda3\\lib\\site-packages (from click~=8.0->fiona) (0.4.6)\n",
      "Requirement already satisfied: python-dateutil>=2.8.2 in c:\\users\\aravi\\appdata\\roaming\\python\\python313\\site-packages (from pandas>=2.0.0->geopandas) (2.9.0.post0)\n",
      "Requirement already satisfied: pytz>=2020.1 in c:\\users\\aravi\\appdata\\roaming\\python\\python313\\site-packages (from pandas>=2.0.0->geopandas) (2025.2)\n",
      "Requirement already satisfied: tzdata>=2022.7 in c:\\users\\aravi\\appdata\\roaming\\python\\python313\\site-packages (from pandas>=2.0.0->geopandas) (2025.2)\n",
      "Requirement already satisfied: six>=1.5 in c:\\users\\aravi\\appdata\\roaming\\python\\python313\\site-packages (from python-dateutil>=2.8.2->pandas>=2.0.0->geopandas) (1.17.0)\n",
      "Note: you may need to restart the kernel to use updated packages.\n"
     ]
    }
   ],
   "source": [
    "pip install geopandas shapely pyproj fiona"
   ]
  },
  {
   "cell_type": "code",
   "execution_count": 47,
   "id": "1d843edb-d3e6-44bd-b2e8-29f0f165c9a9",
   "metadata": {},
   "outputs": [],
   "source": [
    "import geopandas as gpd"
   ]
  },
  {
   "cell_type": "code",
   "execution_count": 50,
   "id": "9e59601a-2bfd-4dc6-85c6-545a9a88a1ec",
   "metadata": {},
   "outputs": [],
   "source": [
    "df = pd.read_csv(\"C:/Users/aravi/Downloads/zomato_df_final_data.csv\")"
   ]
  },
  {
   "cell_type": "code",
   "execution_count": 51,
   "id": "0d890a0d-551b-4cad-bfb9-25e57e83b325",
   "metadata": {},
   "outputs": [],
   "source": [
    "gdf = gpd.read_file(\"C:/Users/aravi/Downloads/sydney.geojson\")"
   ]
  },
  {
   "cell_type": "code",
   "execution_count": 52,
   "id": "77c3309e-d0d9-4a86-a8c2-3c45e78f09d7",
   "metadata": {},
   "outputs": [
    {
     "name": "stdout",
     "output_type": "stream",
     "text": [
      "    SSC_CODE                               SSC_NAME CONF_VALUE      SQKM  \\\n",
      "0      10001                             Abbotsbury  Very good  4.984673   \n",
      "1      10002                       Abbotsford (NSW)  Very good  1.017855   \n",
      "2      10010                         Acacia Gardens  Very good  0.946630   \n",
      "3      10016                                  Airds  Very good  2.380773   \n",
      "4      10022                             Alexandria  Very good  3.503330   \n",
      "..       ...                                    ...        ...       ...   \n",
      "489    89191                     Unclassified (ACT)         NA  0.000000   \n",
      "490    89494                 No usual address (ACT)         NA       NaN   \n",
      "491    89797  Migratory - Offshore - Shipping (ACT)         NA       NaN   \n",
      "492    99494                  No usual address (OT)         NA       NaN   \n",
      "493    99797   Migratory - Offshore - Shipping (OT)         NA       NaN   \n",
      "\n",
      "                                              geometry  \n",
      "0    POLYGON ((150.85118 -33.87069, 150.85104 -33.8...  \n",
      "1    POLYGON ((151.12593 -33.84578, 151.12678 -33.8...  \n",
      "2    POLYGON ((150.90781 -33.73547, 150.90799 -33.7...  \n",
      "3    POLYGON ((150.84 -34.07817, 150.84077 -34.078,...  \n",
      "4    POLYGON ((151.18603 -33.9166, 151.18562 -33.91...  \n",
      "..                                                 ...  \n",
      "489                                               None  \n",
      "490                                               None  \n",
      "491                                               None  \n",
      "492                                               None  \n",
      "493                                               None  \n",
      "\n",
      "[494 rows x 5 columns]\n"
     ]
    }
   ],
   "source": [
    "print(gdf)"
   ]
  },
  {
   "cell_type": "code",
   "execution_count": 56,
   "id": "2080b8b2-c51a-499c-b35c-1f645e7788c0",
   "metadata": {},
   "outputs": [
    {
     "name": "stdout",
     "output_type": "stream",
     "text": [
      "<class 'geopandas.geodataframe.GeoDataFrame'>\n",
      "RangeIndex: 494 entries, 0 to 493\n",
      "Data columns (total 5 columns):\n",
      " #   Column      Non-Null Count  Dtype   \n",
      "---  ------      --------------  -----   \n",
      " 0   SSC_CODE    494 non-null    object  \n",
      " 1   SSC_NAME    494 non-null    object  \n",
      " 2   CONF_VALUE  494 non-null    object  \n",
      " 3   SQKM        476 non-null    float64 \n",
      " 4   geometry    471 non-null    geometry\n",
      "dtypes: float64(1), geometry(1), object(3)\n",
      "memory usage: 19.4+ KB\n",
      "None\n"
     ]
    }
   ],
   "source": [
    "print(gdf.info())"
   ]
  },
  {
   "cell_type": "code",
   "execution_count": 57,
   "id": "81b41056-883c-421b-9042-7daf95248f9e",
   "metadata": {},
   "outputs": [
    {
     "name": "stdout",
     "output_type": "stream",
     "text": [
      "             SQKM\n",
      "count  476.000000\n",
      "mean     3.832565\n",
      "std     11.343243\n",
      "min      0.000000\n",
      "25%      0.969137\n",
      "50%      1.994914\n",
      "75%      3.778987\n",
      "max    190.404751\n"
     ]
    }
   ],
   "source": [
    "print(gdf.describe())"
   ]
  },
  {
   "cell_type": "code",
   "execution_count": 58,
   "id": "b84fb220-4204-42cb-9b36-f3e68632f99b",
   "metadata": {},
   "outputs": [],
   "source": [
    "##Question 5 - interactive visualisation"
   ]
  },
  {
   "cell_type": "code",
   "execution_count": 59,
   "id": "ddd06852-f09e-47d4-a574-8cc70fb178e9",
   "metadata": {},
   "outputs": [],
   "source": [
    "##-------PART B------##"
   ]
  },
  {
   "cell_type": "code",
   "execution_count": 60,
   "id": "bd5603b4-e0dc-4655-9ecc-ff48c1999dc7",
   "metadata": {},
   "outputs": [],
   "source": [
    "#1. Feature Engineering"
   ]
  },
  {
   "cell_type": "code",
   "execution_count": 61,
   "id": "eb00b7aa-cc6a-49be-9067-2e762951ed8a",
   "metadata": {},
   "outputs": [],
   "source": [
    "import numpy as np\n",
    "import pandas as pd\n",
    "import matplotlib.pyplot as plt\n",
    "import seaborn as sns"
   ]
  },
  {
   "cell_type": "code",
   "execution_count": 62,
   "id": "5d38532f-83f7-441f-8360-c3e2763e3baf",
   "metadata": {},
   "outputs": [],
   "source": [
    "from sklearn.model_selection import train_test_split\n",
    "from sklearn.preprocessing import LabelEncoder, StandardScaler\n",
    "from sklearn.ensemble import RandomForestRegressor\n",
    "from sklearn.svm import SVR\n",
    "from sklearn.neural_network import MLPRegressor\n",
    "from sklearn.metrics import mean_absolute_error, mean_squared_error, r2_score"
   ]
  },
  {
   "cell_type": "code",
   "execution_count": 63,
   "id": "e778d714-0bc1-45dd-a11e-97ef2e595089",
   "metadata": {},
   "outputs": [],
   "source": [
    "df=pd.read_csv(\"C:/Users/aravi/Downloads/zomato_df_final_data.csv\")"
   ]
  },
  {
   "cell_type": "code",
   "execution_count": 64,
   "id": "b9e0b3d7-0e73-4e72-b4f1-9dcd696fea30",
   "metadata": {},
   "outputs": [
    {
     "name": "stdout",
     "output_type": "stream",
     "text": [
      "Dataset dimensions: (10500, 17)\n"
     ]
    }
   ],
   "source": [
    "print(f\"Dataset dimensions: {df.shape}\")"
   ]
  },
  {
   "cell_type": "code",
   "execution_count": 65,
   "id": "5c268dba-6d0d-47f1-be29-1614f5c336cb",
   "metadata": {},
   "outputs": [
    {
     "name": "stdout",
     "output_type": "stream",
     "text": [
      "\n",
      "First 5 rows:\n"
     ]
    }
   ],
   "source": [
    "print(\"\\nFirst 5 rows:\")"
   ]
  },
  {
   "cell_type": "code",
   "execution_count": 67,
   "id": "bb27f2e7-e540-4324-8321-121008b4fd5b",
   "metadata": {},
   "outputs": [
    {
     "data": {
      "text/html": [
       "<div>\n",
       "<style scoped>\n",
       "    .dataframe tbody tr th:only-of-type {\n",
       "        vertical-align: middle;\n",
       "    }\n",
       "\n",
       "    .dataframe tbody tr th {\n",
       "        vertical-align: top;\n",
       "    }\n",
       "\n",
       "    .dataframe thead th {\n",
       "        text-align: right;\n",
       "    }\n",
       "</style>\n",
       "<table border=\"1\" class=\"dataframe\">\n",
       "  <thead>\n",
       "    <tr style=\"text-align: right;\">\n",
       "      <th></th>\n",
       "      <th>address</th>\n",
       "      <th>cost</th>\n",
       "      <th>cuisine</th>\n",
       "      <th>lat</th>\n",
       "      <th>link</th>\n",
       "      <th>lng</th>\n",
       "      <th>phone</th>\n",
       "      <th>rating_number</th>\n",
       "      <th>rating_text</th>\n",
       "      <th>subzone</th>\n",
       "      <th>title</th>\n",
       "      <th>type</th>\n",
       "      <th>votes</th>\n",
       "      <th>groupon</th>\n",
       "      <th>color</th>\n",
       "      <th>cost_2</th>\n",
       "      <th>cuisine_color</th>\n",
       "    </tr>\n",
       "  </thead>\n",
       "  <tbody>\n",
       "    <tr>\n",
       "      <th>0</th>\n",
       "      <td>371A Pitt Street, CBD, Sydney</td>\n",
       "      <td>50.0</td>\n",
       "      <td>['Hot Pot', 'Korean BBQ', 'BBQ', 'Korean']</td>\n",
       "      <td>-33.876059</td>\n",
       "      <td>https://www.zomato.com/sydney/sydney-madang-cbd</td>\n",
       "      <td>151.207605</td>\n",
       "      <td>02 8318 0406</td>\n",
       "      <td>4.0</td>\n",
       "      <td>Very Good</td>\n",
       "      <td>CBD</td>\n",
       "      <td>Sydney Madang</td>\n",
       "      <td>['Casual Dining']</td>\n",
       "      <td>1311.0</td>\n",
       "      <td>False</td>\n",
       "      <td>#e15307</td>\n",
       "      <td>5.243902</td>\n",
       "      <td>#6f706b</td>\n",
       "    </tr>\n",
       "    <tr>\n",
       "      <th>1</th>\n",
       "      <td>Shop 7A, 2 Huntley Street, Alexandria, Sydney</td>\n",
       "      <td>80.0</td>\n",
       "      <td>['Cafe', 'Coffee and Tea', 'Salad', 'Poké']</td>\n",
       "      <td>-33.910999</td>\n",
       "      <td>https://www.zomato.com/sydney/the-grounds-of-a...</td>\n",
       "      <td>151.193793</td>\n",
       "      <td>02 9699 2225</td>\n",
       "      <td>4.6</td>\n",
       "      <td>Excellent</td>\n",
       "      <td>The Grounds of Alexandria, Alexandria</td>\n",
       "      <td>The Grounds of Alexandria Cafe</td>\n",
       "      <td>['Café']</td>\n",
       "      <td>3236.0</td>\n",
       "      <td>False</td>\n",
       "      <td>#9c3203</td>\n",
       "      <td>7.560976</td>\n",
       "      <td>#6f706b</td>\n",
       "    </tr>\n",
       "    <tr>\n",
       "      <th>2</th>\n",
       "      <td>Level G, The Darling at the Star, 80 Pyrmont ...</td>\n",
       "      <td>120.0</td>\n",
       "      <td>['Japanese']</td>\n",
       "      <td>-33.867971</td>\n",
       "      <td>https://www.zomato.com/sydney/sokyo-pyrmont</td>\n",
       "      <td>151.195210</td>\n",
       "      <td>1800 700 700</td>\n",
       "      <td>4.9</td>\n",
       "      <td>Excellent</td>\n",
       "      <td>The Star, Pyrmont</td>\n",
       "      <td>Sokyo</td>\n",
       "      <td>['Fine Dining']</td>\n",
       "      <td>1227.0</td>\n",
       "      <td>False</td>\n",
       "      <td>#7f2704</td>\n",
       "      <td>10.650407</td>\n",
       "      <td>#6f706b</td>\n",
       "    </tr>\n",
       "    <tr>\n",
       "      <th>3</th>\n",
       "      <td>Sydney Opera House, Bennelong Point, Circular...</td>\n",
       "      <td>270.0</td>\n",
       "      <td>['Modern Australian']</td>\n",
       "      <td>-33.856784</td>\n",
       "      <td>https://www.zomato.com/sydney/bennelong-restau...</td>\n",
       "      <td>151.215297</td>\n",
       "      <td>02 9240 8000</td>\n",
       "      <td>4.9</td>\n",
       "      <td>Excellent</td>\n",
       "      <td>Circular Quay</td>\n",
       "      <td>Bennelong Restaurant</td>\n",
       "      <td>['Fine Dining', 'Bar']</td>\n",
       "      <td>278.0</td>\n",
       "      <td>False</td>\n",
       "      <td>#7f2704</td>\n",
       "      <td>22.235772</td>\n",
       "      <td>#4186f4</td>\n",
       "    </tr>\n",
       "    <tr>\n",
       "      <th>4</th>\n",
       "      <td>20 Campbell Street, Chinatown, Sydney</td>\n",
       "      <td>55.0</td>\n",
       "      <td>['Thai', 'Salad']</td>\n",
       "      <td>-33.879035</td>\n",
       "      <td>https://www.zomato.com/sydney/chat-thai-chinatown</td>\n",
       "      <td>151.206409</td>\n",
       "      <td>02 8317 4811</td>\n",
       "      <td>4.5</td>\n",
       "      <td>Excellent</td>\n",
       "      <td>Chinatown</td>\n",
       "      <td>Chat Thai</td>\n",
       "      <td>['Casual Dining']</td>\n",
       "      <td>2150.0</td>\n",
       "      <td>False</td>\n",
       "      <td>#a83703</td>\n",
       "      <td>5.630081</td>\n",
       "      <td>#6f706b</td>\n",
       "    </tr>\n",
       "  </tbody>\n",
       "</table>\n",
       "</div>"
      ],
      "text/plain": [
       "                                             address   cost  \\\n",
       "0                      371A Pitt Street, CBD, Sydney   50.0   \n",
       "1      Shop 7A, 2 Huntley Street, Alexandria, Sydney   80.0   \n",
       "2   Level G, The Darling at the Star, 80 Pyrmont ...  120.0   \n",
       "3   Sydney Opera House, Bennelong Point, Circular...  270.0   \n",
       "4              20 Campbell Street, Chinatown, Sydney   55.0   \n",
       "\n",
       "                                       cuisine        lat  \\\n",
       "0   ['Hot Pot', 'Korean BBQ', 'BBQ', 'Korean'] -33.876059   \n",
       "1  ['Cafe', 'Coffee and Tea', 'Salad', 'Poké'] -33.910999   \n",
       "2                                 ['Japanese'] -33.867971   \n",
       "3                        ['Modern Australian'] -33.856784   \n",
       "4                            ['Thai', 'Salad'] -33.879035   \n",
       "\n",
       "                                                link         lng  \\\n",
       "0    https://www.zomato.com/sydney/sydney-madang-cbd  151.207605   \n",
       "1  https://www.zomato.com/sydney/the-grounds-of-a...  151.193793   \n",
       "2        https://www.zomato.com/sydney/sokyo-pyrmont  151.195210   \n",
       "3  https://www.zomato.com/sydney/bennelong-restau...  151.215297   \n",
       "4  https://www.zomato.com/sydney/chat-thai-chinatown  151.206409   \n",
       "\n",
       "          phone  rating_number rating_text  \\\n",
       "0  02 8318 0406            4.0   Very Good   \n",
       "1  02 9699 2225            4.6   Excellent   \n",
       "2  1800 700 700            4.9   Excellent   \n",
       "3  02 9240 8000            4.9   Excellent   \n",
       "4  02 8317 4811            4.5   Excellent   \n",
       "\n",
       "                                 subzone                           title  \\\n",
       "0                                    CBD                   Sydney Madang   \n",
       "1  The Grounds of Alexandria, Alexandria  The Grounds of Alexandria Cafe   \n",
       "2                      The Star, Pyrmont                           Sokyo   \n",
       "3                          Circular Quay            Bennelong Restaurant   \n",
       "4                              Chinatown                       Chat Thai   \n",
       "\n",
       "                     type   votes  groupon    color     cost_2 cuisine_color  \n",
       "0       ['Casual Dining']  1311.0    False  #e15307   5.243902       #6f706b  \n",
       "1                ['Café']  3236.0    False  #9c3203   7.560976       #6f706b  \n",
       "2         ['Fine Dining']  1227.0    False  #7f2704  10.650407       #6f706b  \n",
       "3  ['Fine Dining', 'Bar']   278.0    False  #7f2704  22.235772       #4186f4  \n",
       "4       ['Casual Dining']  2150.0    False  #a83703   5.630081       #6f706b  "
      ]
     },
     "metadata": {},
     "output_type": "display_data"
    }
   ],
   "source": [
    "display(df.head())"
   ]
  },
  {
   "cell_type": "code",
   "execution_count": 68,
   "id": "27081e36-b47d-4ae6-be52-fbd0e23a313a",
   "metadata": {},
   "outputs": [
    {
     "name": "stdout",
     "output_type": "stream",
     "text": [
      "\n",
      "Data types:\n"
     ]
    }
   ],
   "source": [
    "print(\"\\nData types:\")"
   ]
  },
  {
   "cell_type": "code",
   "execution_count": 69,
   "id": "02c659f8-3857-4ace-ae2f-d62ce6cf59d3",
   "metadata": {},
   "outputs": [
    {
     "name": "stdout",
     "output_type": "stream",
     "text": [
      "\n",
      "Data types:\n",
      "address           object\n",
      "cost             float64\n",
      "cuisine           object\n",
      "lat              float64\n",
      "link              object\n",
      "lng              float64\n",
      "phone             object\n",
      "rating_number    float64\n",
      "rating_text       object\n",
      "subzone           object\n",
      "title             object\n",
      "type              object\n",
      "votes            float64\n",
      "groupon             bool\n",
      "color             object\n",
      "cost_2           float64\n",
      "cuisine_color     object\n",
      "dtype: object\n"
     ]
    }
   ],
   "source": [
    "print(\"\\nData types:\")\n",
    "print(df.dtypes)"
   ]
  },
  {
   "cell_type": "code",
   "execution_count": 70,
   "id": "6838d861-8265-4088-9665-0ecdbe9069c0",
   "metadata": {},
   "outputs": [
    {
     "name": "stdout",
     "output_type": "stream",
     "text": [
      "\n",
      "Missing values:\n",
      "address             0\n",
      "cost              346\n",
      "cuisine             0\n",
      "lat               192\n",
      "link                0\n",
      "lng               192\n",
      "phone               0\n",
      "rating_number    3316\n",
      "rating_text      3316\n",
      "subzone             0\n",
      "title               0\n",
      "type               48\n",
      "votes            3316\n",
      "groupon             0\n",
      "color               0\n",
      "cost_2            346\n",
      "cuisine_color       0\n",
      "dtype: int64\n"
     ]
    }
   ],
   "source": [
    "print(\"\\nMissing values:\")\n",
    "print(df.isnull().sum())"
   ]
  },
  {
   "cell_type": "code",
   "execution_count": null,
   "id": "9a492041-cec4-458b-8b0f-fdb5dda3bffe",
   "metadata": {},
   "outputs": [],
   "source": []
  }
 ],
 "metadata": {
  "kernelspec": {
   "display_name": "Python 3",
   "language": "python",
   "name": "python3"
  },
  "language_info": {
   "codemirror_mode": {
    "name": "ipython",
    "version": 3
   },
   "file_extension": ".py",
   "mimetype": "text/x-python",
   "name": "python",
   "nbconvert_exporter": "python",
   "pygments_lexer": "ipython3",
   "version": "3.12.2"
  }
 },
 "nbformat": 4,
 "nbformat_minor": 5
}
