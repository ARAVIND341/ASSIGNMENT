{
 "cells": [
  {
   "cell_type": "code",
   "execution_count": 2,
   "id": "8c979347",
   "metadata": {},
   "outputs": [],
   "source": [
    "from pyspark.sql import SparkSession, functions as F\n",
    "from pyspark.ml import Pipeline\n",
    "from pyspark.ml.feature import Imputer, VectorAssembler, StringIndexer\n",
    "from pyspark.ml.classification import LogisticRegression\n",
    "from pyspark.ml.evaluation import MulticlassClassificationEvaluator"
   ]
  },
  {
   "cell_type": "code",
   "execution_count": 3,
   "id": "edec2fec",
   "metadata": {},
   "outputs": [],
   "source": [
    "csv_path = \"C:/Users/aravi/Desktop/data_Science_technologies/zomato_df_final_data.csv\"\n",
    "label_col = \"is_popular\"                 \n",
    "feature_cols = [\"cost\",\"votes\",\"cuisine_count\",\"rating_strength\",\"cost_2\"]"
   ]
  },
  {
   "cell_type": "code",
   "execution_count": 4,
   "id": "ed1ec0b9",
   "metadata": {},
   "outputs": [
    {
     "name": "stdout",
     "output_type": "stream",
     "text": [
      "spark started\n"
     ]
    }
   ],
   "source": [
    "spark = SparkSession.builder.appName(\"zomato-logreg-w7\").getOrCreate()\n",
    "print(\"spark started\")"
   ]
  },
  {
   "cell_type": "code",
   "execution_count": null,
   "id": "3b969d91",
   "metadata": {},
   "outputs": [],
   "source": [
    "#now we check if the column, is_popular exists or not"
   ]
  }
 ],
 "metadata": {
  "kernelspec": {
   "display_name": "spark-venv",
   "language": "python",
   "name": "python3"
  },
  "language_info": {
   "codemirror_mode": {
    "name": "ipython",
    "version": 3
   },
   "file_extension": ".py",
   "mimetype": "text/x-python",
   "name": "python",
   "nbconvert_exporter": "python",
   "pygments_lexer": "ipython3",
   "version": "3.13.7"
  }
 },
 "nbformat": 4,
 "nbformat_minor": 5
}
